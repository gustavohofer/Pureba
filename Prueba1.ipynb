{
 "cells": [
  {
   "cell_type": "markdown",
   "id": "1d2ce5a4-39a3-4d87-94d8-4cd545bb4d2f",
   "metadata": {
    "tags": []
   },
   "source": [
    "My Great Title"
   ]
  },
  {
   "cell_type": "code",
   "execution_count": null,
   "id": "2a5c6fed-a271-4145-9cf7-c93eb543673f",
   "metadata": {},
   "outputs": [
    {
     "data": {
      "text/plain": [
       "4"
      ]
     },
     "execution_count": 3,
     "metadata": {},
     "output_type": "execute_result"
    }
   ],
   "source": [
    "2*2"
   ]
  },
  {
   "cell_type": "code",
   "execution_count": null,
   "id": "fcfdbad4-96fd-4755-a2ff-2ad88f9cb276",
   "metadata": {},
   "outputs": [],
   "source": []
  },
  {
   "cell_type": "code",
   "execution_count": null,
   "id": "b645243c-f90e-4ce5-9302-991e519ac187",
   "metadata": {},
   "outputs": [],
   "source": []
  },
  {
   "cell_type": "code",
   "execution_count": null,
   "id": "f87fa4e3-fc46-47ca-9989-2116fb43aa5a",
   "metadata": {},
   "outputs": [],
   "source": []
  }
 ],
 "metadata": {
  "kernelspec": {
   "display_name": "Python",
   "language": "python",
   "name": "conda-env-python-py"
  },
  "language_info": {
   "codemirror_mode": {
    "name": "ipython",
    "version": 3
   },
   "file_extension": ".py",
   "mimetype": "text/x-python",
   "name": "python",
   "nbconvert_exporter": "python",
   "pygments_lexer": "ipython3",
   "version": "3.7.12"
  }
 },
 "nbformat": 4,
 "nbformat_minor": 5
}
